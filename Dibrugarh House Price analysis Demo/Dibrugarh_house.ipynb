{
 "cells": [
  {
   "cell_type": "code",
   "id": "d9786b2d-6874-4d1e-bea6-257fbef5b679",
   "metadata": {
    "ExecuteTime": {
     "end_time": "2025-06-25T15:06:39.973731Z",
     "start_time": "2025-06-25T15:06:39.954426Z"
    }
   },
   "source": [
    "import pandas as pd\n",
    "import numpy as np"
   ],
   "outputs": [],
   "execution_count": 97
  },
  {
   "cell_type": "code",
   "id": "847205e7-0974-4075-b624-daad380828fd",
   "metadata": {
    "ExecuteTime": {
     "end_time": "2025-06-25T15:06:40.020481Z",
     "start_time": "2025-06-25T15:06:39.982524Z"
    }
   },
   "source": [
    "house = pd.read_csv('dib_house_prices.csv')"
   ],
   "outputs": [],
   "execution_count": 98
  },
  {
   "cell_type": "code",
   "id": "b2e42ddd-ad9f-468d-8747-8d479a39e053",
   "metadata": {
    "ExecuteTime": {
     "end_time": "2025-06-25T15:06:40.067257Z",
     "start_time": "2025-06-25T15:06:40.037819Z"
    }
   },
   "source": [
    "house.head()"
   ],
   "outputs": [
    {
     "data": {
      "text/plain": [
       "   area_sqft  bedrooms  bathrooms       locality  house_age_years  year_built  \\\n",
       "0     2023.0  2.000000   2.000000    Khalihamari             11.0      2014.0   \n",
       "1      883.0  2.497631   1.991748  Mancotta Road             28.0      1997.0   \n",
       "2      912.0  2.000000   1.000000    Boiragimoth             12.0      2013.0   \n",
       "3     1196.0  4.000000   1.000000    Boiragimoth             36.0      1989.0   \n",
       "4     2804.0  4.000000   2.000000      Naliapool              7.0      2018.0   \n",
       "\n",
       "   floor_number building_type  parking_spaces  has_garden  price_inr  \n",
       "0      1.493028     Apartment             1.0         1.0    6102263  \n",
       "1      1.493028     Apartment             1.0         0.0    2952163  \n",
       "2      3.000000        Duplex             1.0         1.0    2933795  \n",
       "3      1.493028   Independent             1.0         0.0    3698572  \n",
       "4      2.000000     Apartment             1.0         0.0    9142000  "
      ],
      "text/html": [
       "<div>\n",
       "<style scoped>\n",
       "    .dataframe tbody tr th:only-of-type {\n",
       "        vertical-align: middle;\n",
       "    }\n",
       "\n",
       "    .dataframe tbody tr th {\n",
       "        vertical-align: top;\n",
       "    }\n",
       "\n",
       "    .dataframe thead th {\n",
       "        text-align: right;\n",
       "    }\n",
       "</style>\n",
       "<table border=\"1\" class=\"dataframe\">\n",
       "  <thead>\n",
       "    <tr style=\"text-align: right;\">\n",
       "      <th></th>\n",
       "      <th>area_sqft</th>\n",
       "      <th>bedrooms</th>\n",
       "      <th>bathrooms</th>\n",
       "      <th>locality</th>\n",
       "      <th>house_age_years</th>\n",
       "      <th>year_built</th>\n",
       "      <th>floor_number</th>\n",
       "      <th>building_type</th>\n",
       "      <th>parking_spaces</th>\n",
       "      <th>has_garden</th>\n",
       "      <th>price_inr</th>\n",
       "    </tr>\n",
       "  </thead>\n",
       "  <tbody>\n",
       "    <tr>\n",
       "      <th>0</th>\n",
       "      <td>2023.0</td>\n",
       "      <td>2.000000</td>\n",
       "      <td>2.000000</td>\n",
       "      <td>Khalihamari</td>\n",
       "      <td>11.0</td>\n",
       "      <td>2014.0</td>\n",
       "      <td>1.493028</td>\n",
       "      <td>Apartment</td>\n",
       "      <td>1.0</td>\n",
       "      <td>1.0</td>\n",
       "      <td>6102263</td>\n",
       "    </tr>\n",
       "    <tr>\n",
       "      <th>1</th>\n",
       "      <td>883.0</td>\n",
       "      <td>2.497631</td>\n",
       "      <td>1.991748</td>\n",
       "      <td>Mancotta Road</td>\n",
       "      <td>28.0</td>\n",
       "      <td>1997.0</td>\n",
       "      <td>1.493028</td>\n",
       "      <td>Apartment</td>\n",
       "      <td>1.0</td>\n",
       "      <td>0.0</td>\n",
       "      <td>2952163</td>\n",
       "    </tr>\n",
       "    <tr>\n",
       "      <th>2</th>\n",
       "      <td>912.0</td>\n",
       "      <td>2.000000</td>\n",
       "      <td>1.000000</td>\n",
       "      <td>Boiragimoth</td>\n",
       "      <td>12.0</td>\n",
       "      <td>2013.0</td>\n",
       "      <td>3.000000</td>\n",
       "      <td>Duplex</td>\n",
       "      <td>1.0</td>\n",
       "      <td>1.0</td>\n",
       "      <td>2933795</td>\n",
       "    </tr>\n",
       "    <tr>\n",
       "      <th>3</th>\n",
       "      <td>1196.0</td>\n",
       "      <td>4.000000</td>\n",
       "      <td>1.000000</td>\n",
       "      <td>Boiragimoth</td>\n",
       "      <td>36.0</td>\n",
       "      <td>1989.0</td>\n",
       "      <td>1.493028</td>\n",
       "      <td>Independent</td>\n",
       "      <td>1.0</td>\n",
       "      <td>0.0</td>\n",
       "      <td>3698572</td>\n",
       "    </tr>\n",
       "    <tr>\n",
       "      <th>4</th>\n",
       "      <td>2804.0</td>\n",
       "      <td>4.000000</td>\n",
       "      <td>2.000000</td>\n",
       "      <td>Naliapool</td>\n",
       "      <td>7.0</td>\n",
       "      <td>2018.0</td>\n",
       "      <td>2.000000</td>\n",
       "      <td>Apartment</td>\n",
       "      <td>1.0</td>\n",
       "      <td>0.0</td>\n",
       "      <td>9142000</td>\n",
       "    </tr>\n",
       "  </tbody>\n",
       "</table>\n",
       "</div>"
      ]
     },
     "execution_count": 99,
     "metadata": {},
     "output_type": "execute_result"
    }
   ],
   "execution_count": 99
  },
  {
   "cell_type": "code",
   "id": "195fde4c-c4c5-48aa-94bf-32ea435b70ba",
   "metadata": {
    "ExecuteTime": {
     "end_time": "2025-06-25T15:06:40.145805Z",
     "start_time": "2025-06-25T15:06:40.105979Z"
    }
   },
   "source": [
    "house.tail()\n"
   ],
   "outputs": [
    {
     "data": {
      "text/plain": [
       "      area_sqft  bedrooms  bathrooms       locality  house_age_years  \\\n",
       "8995     2022.0  2.497631        2.0  Chowkidinghee             40.0   \n",
       "8996     2809.0  1.000000        3.0      Naliapool             15.0   \n",
       "8997     1864.0  2.000000        2.0  Mancotta Road             36.0   \n",
       "8998      689.0  4.000000        1.0    Boiragimoth             36.0   \n",
       "8999     1683.0  4.000000        2.0    Khalihamari              2.0   \n",
       "\n",
       "      year_built  floor_number building_type  parking_spaces  has_garden  \\\n",
       "8995      1985.0      1.493028        Duplex             2.0    1.000000   \n",
       "8996      2010.0      1.000000     Apartment             NaN    0.305408   \n",
       "8997      1989.0      2.000000   Independent             0.0    1.000000   \n",
       "8998      1989.0      3.000000        Duplex             2.0    0.000000   \n",
       "8999      2023.0      2.000000   Independent             2.0    0.000000   \n",
       "\n",
       "      price_inr  \n",
       "8995    7026671  \n",
       "8996    7824166  \n",
       "8997    5636938  \n",
       "8998    2187620  \n",
       "8999    5917554  "
      ],
      "text/html": [
       "<div>\n",
       "<style scoped>\n",
       "    .dataframe tbody tr th:only-of-type {\n",
       "        vertical-align: middle;\n",
       "    }\n",
       "\n",
       "    .dataframe tbody tr th {\n",
       "        vertical-align: top;\n",
       "    }\n",
       "\n",
       "    .dataframe thead th {\n",
       "        text-align: right;\n",
       "    }\n",
       "</style>\n",
       "<table border=\"1\" class=\"dataframe\">\n",
       "  <thead>\n",
       "    <tr style=\"text-align: right;\">\n",
       "      <th></th>\n",
       "      <th>area_sqft</th>\n",
       "      <th>bedrooms</th>\n",
       "      <th>bathrooms</th>\n",
       "      <th>locality</th>\n",
       "      <th>house_age_years</th>\n",
       "      <th>year_built</th>\n",
       "      <th>floor_number</th>\n",
       "      <th>building_type</th>\n",
       "      <th>parking_spaces</th>\n",
       "      <th>has_garden</th>\n",
       "      <th>price_inr</th>\n",
       "    </tr>\n",
       "  </thead>\n",
       "  <tbody>\n",
       "    <tr>\n",
       "      <th>8995</th>\n",
       "      <td>2022.0</td>\n",
       "      <td>2.497631</td>\n",
       "      <td>2.0</td>\n",
       "      <td>Chowkidinghee</td>\n",
       "      <td>40.0</td>\n",
       "      <td>1985.0</td>\n",
       "      <td>1.493028</td>\n",
       "      <td>Duplex</td>\n",
       "      <td>2.0</td>\n",
       "      <td>1.000000</td>\n",
       "      <td>7026671</td>\n",
       "    </tr>\n",
       "    <tr>\n",
       "      <th>8996</th>\n",
       "      <td>2809.0</td>\n",
       "      <td>1.000000</td>\n",
       "      <td>3.0</td>\n",
       "      <td>Naliapool</td>\n",
       "      <td>15.0</td>\n",
       "      <td>2010.0</td>\n",
       "      <td>1.000000</td>\n",
       "      <td>Apartment</td>\n",
       "      <td>NaN</td>\n",
       "      <td>0.305408</td>\n",
       "      <td>7824166</td>\n",
       "    </tr>\n",
       "    <tr>\n",
       "      <th>8997</th>\n",
       "      <td>1864.0</td>\n",
       "      <td>2.000000</td>\n",
       "      <td>2.0</td>\n",
       "      <td>Mancotta Road</td>\n",
       "      <td>36.0</td>\n",
       "      <td>1989.0</td>\n",
       "      <td>2.000000</td>\n",
       "      <td>Independent</td>\n",
       "      <td>0.0</td>\n",
       "      <td>1.000000</td>\n",
       "      <td>5636938</td>\n",
       "    </tr>\n",
       "    <tr>\n",
       "      <th>8998</th>\n",
       "      <td>689.0</td>\n",
       "      <td>4.000000</td>\n",
       "      <td>1.0</td>\n",
       "      <td>Boiragimoth</td>\n",
       "      <td>36.0</td>\n",
       "      <td>1989.0</td>\n",
       "      <td>3.000000</td>\n",
       "      <td>Duplex</td>\n",
       "      <td>2.0</td>\n",
       "      <td>0.000000</td>\n",
       "      <td>2187620</td>\n",
       "    </tr>\n",
       "    <tr>\n",
       "      <th>8999</th>\n",
       "      <td>1683.0</td>\n",
       "      <td>4.000000</td>\n",
       "      <td>2.0</td>\n",
       "      <td>Khalihamari</td>\n",
       "      <td>2.0</td>\n",
       "      <td>2023.0</td>\n",
       "      <td>2.000000</td>\n",
       "      <td>Independent</td>\n",
       "      <td>2.0</td>\n",
       "      <td>0.000000</td>\n",
       "      <td>5917554</td>\n",
       "    </tr>\n",
       "  </tbody>\n",
       "</table>\n",
       "</div>"
      ]
     },
     "execution_count": 100,
     "metadata": {},
     "output_type": "execute_result"
    }
   ],
   "execution_count": 100
  },
  {
   "cell_type": "code",
   "id": "f06fbd98-9190-4155-809c-16434158fc8f",
   "metadata": {
    "ExecuteTime": {
     "end_time": "2025-06-25T15:06:40.192253Z",
     "start_time": "2025-06-25T15:06:40.164095Z"
    }
   },
   "source": [
    "house.info()"
   ],
   "outputs": [
    {
     "name": "stdout",
     "output_type": "stream",
     "text": [
      "<class 'pandas.core.frame.DataFrame'>\n",
      "RangeIndex: 9000 entries, 0 to 8999\n",
      "Data columns (total 11 columns):\n",
      " #   Column           Non-Null Count  Dtype  \n",
      "---  ------           --------------  -----  \n",
      " 0   area_sqft        9000 non-null   float64\n",
      " 1   bedrooms         9000 non-null   float64\n",
      " 2   bathrooms        9000 non-null   float64\n",
      " 3   locality         9000 non-null   object \n",
      " 4   house_age_years  9000 non-null   float64\n",
      " 5   year_built       9000 non-null   float64\n",
      " 6   floor_number     9000 non-null   float64\n",
      " 7   building_type    9000 non-null   object \n",
      " 8   parking_spaces   8463 non-null   float64\n",
      " 9   has_garden       9000 non-null   float64\n",
      " 10  price_inr        9000 non-null   int64  \n",
      "dtypes: float64(8), int64(1), object(2)\n",
      "memory usage: 773.6+ KB\n"
     ]
    }
   ],
   "execution_count": 101
  },
  {
   "cell_type": "code",
   "id": "b25be73c-8eec-4fe5-95b1-76c424b8d569",
   "metadata": {
    "ExecuteTime": {
     "end_time": "2025-06-25T15:06:40.253991Z",
     "start_time": "2025-06-25T15:06:40.236694Z"
    }
   },
   "source": [
    "house['parking_spaces'].value_counts()\n"
   ],
   "outputs": [
    {
     "data": {
      "text/plain": [
       "parking_spaces\n",
       "1.0    2892\n",
       "2.0    2786\n",
       "0.0    2785\n",
       "Name: count, dtype: int64"
      ]
     },
     "execution_count": 102,
     "metadata": {},
     "output_type": "execute_result"
    }
   ],
   "execution_count": 102
  },
  {
   "cell_type": "code",
   "id": "dcb8892e-822d-4f14-9bd2-5cc228af24e4",
   "metadata": {
    "ExecuteTime": {
     "end_time": "2025-06-25T15:06:40.299537Z",
     "start_time": "2025-06-25T15:06:40.284129Z"
    }
   },
   "source": [
    "house['floor_number'].value_counts()"
   ],
   "outputs": [
    {
     "data": {
      "text/plain": [
       "floor_number\n",
       "1.000000    2144\n",
       "0.000000    2119\n",
       "2.000000    2107\n",
       "3.000000    2092\n",
       "1.493028     538\n",
       "Name: count, dtype: int64"
      ]
     },
     "execution_count": 103,
     "metadata": {},
     "output_type": "execute_result"
    }
   ],
   "execution_count": 103
  },
  {
   "cell_type": "code",
   "id": "0b36bb8e-e791-4d09-af7b-c7790c264734",
   "metadata": {
    "ExecuteTime": {
     "end_time": "2025-06-25T15:06:40.331328Z",
     "start_time": "2025-06-25T15:06:40.323262Z"
    }
   },
   "source": [
    "house['bedrooms'].value_counts()"
   ],
   "outputs": [
    {
     "data": {
      "text/plain": [
       "bedrooms\n",
       "2.000000    2170\n",
       "4.000000    2113\n",
       "1.000000    2092\n",
       "3.000000    2067\n",
       "2.497631     558\n",
       "Name: count, dtype: int64"
      ]
     },
     "execution_count": 104,
     "metadata": {},
     "output_type": "execute_result"
    }
   ],
   "execution_count": 104
  },
  {
   "cell_type": "code",
   "id": "15a11884-de64-4d5e-bd53-47cd21c750b9",
   "metadata": {
    "ExecuteTime": {
     "end_time": "2025-06-25T15:06:40.363231Z",
     "start_time": "2025-06-25T15:06:40.354605Z"
    }
   },
   "source": [
    "house['locality'].info()"
   ],
   "outputs": [
    {
     "name": "stdout",
     "output_type": "stream",
     "text": [
      "<class 'pandas.core.series.Series'>\n",
      "RangeIndex: 9000 entries, 0 to 8999\n",
      "Series name: locality\n",
      "Non-Null Count  Dtype \n",
      "--------------  ----- \n",
      "9000 non-null   object\n",
      "dtypes: object(1)\n",
      "memory usage: 70.4+ KB\n"
     ]
    }
   ],
   "execution_count": 105
  },
  {
   "cell_type": "code",
   "id": "06614fe7-cb91-41f5-9e8a-9e2e52cd763a",
   "metadata": {
    "ExecuteTime": {
     "end_time": "2025-06-25T15:06:40.425887Z",
     "start_time": "2025-06-25T15:06:40.389680Z"
    }
   },
   "source": [
    "check=house.describe()"
   ],
   "outputs": [],
   "execution_count": 106
  },
  {
   "cell_type": "code",
   "id": "bc8afc03-2b72-4cba-af1a-a24264e80620",
   "metadata": {
    "ExecuteTime": {
     "end_time": "2025-06-25T15:06:40.441788Z",
     "start_time": "2025-06-25T15:06:40.435662Z"
    }
   },
   "source": [
    "# corr_matrix= check.corr()\n",
    "# corr_matrix['price_inr'].sort_values(ascending=False)"
   ],
   "outputs": [],
   "execution_count": 107
  },
  {
   "cell_type": "code",
   "id": "367834b4-5f13-4ce7-9175-ea123c357c34",
   "metadata": {
    "ExecuteTime": {
     "end_time": "2025-06-25T15:06:40.473333Z",
     "start_time": "2025-06-25T15:06:40.454761Z"
    }
   },
   "source": [],
   "outputs": [],
   "execution_count": null
  },
  {
   "cell_type": "markdown",
   "id": "91a533a9-8fd2-499c-a41d-0906595de117",
   "metadata": {},
   "source": [
    "## training split"
   ]
  },
  {
   "cell_type": "code",
   "id": "45beacc0-0cc2-42bd-90bb-3ae6e8a67902",
   "metadata": {
    "ExecuteTime": {
     "end_time": "2025-06-25T15:06:40.489089Z",
     "start_time": "2025-06-25T15:06:40.482032Z"
    }
   },
   "source": [
    "from sklearn.model_selection import StratifiedShuffleSplit"
   ],
   "outputs": [],
   "execution_count": 108
  },
  {
   "cell_type": "code",
   "id": "90ed2b3c-86e8-45e2-ad1b-c80dfdc6a20c",
   "metadata": {
    "ExecuteTime": {
     "end_time": "2025-06-25T15:06:40.519681Z",
     "start_time": "2025-06-25T15:06:40.498801Z"
    }
   },
   "source": [
    "splits = StratifiedShuffleSplit(n_splits = 1, test_size = 0.2, random_state = 42)\n",
    "for train_index, test_index in splits.split(house, house['bedrooms']):\n",
    "    train_set = house.loc[train_index].copy()\n",
    "    test_set = house.loc[test_index].copy()"
   ],
   "outputs": [],
   "execution_count": 109
  },
  {
   "cell_type": "code",
   "id": "c30fed00-b211-4d58-b6f2-12b9cd298b05",
   "metadata": {
    "ExecuteTime": {
     "end_time": "2025-06-25T15:06:40.535111Z",
     "start_time": "2025-06-25T15:06:40.528739Z"
    }
   },
   "source": [
    "# train_set"
   ],
   "outputs": [],
   "execution_count": 110
  },
  {
   "cell_type": "code",
   "id": "a1df25e7-a97e-411e-a275-efe73e42dd55",
   "metadata": {
    "ExecuteTime": {
     "end_time": "2025-06-25T15:06:40.566269Z",
     "start_time": "2025-06-25T15:06:40.549915Z"
    }
   },
   "source": [
    "# test_set['has_garden'].value_counts()"
   ],
   "outputs": [],
   "execution_count": 111
  },
  {
   "cell_type": "code",
   "id": "c590cf95-19a3-48ef-9a64-e02e9927bb38",
   "metadata": {
    "ExecuteTime": {
     "end_time": "2025-06-25T15:06:40.597727Z",
     "start_time": "2025-06-25T15:06:40.581917Z"
    }
   },
   "source": [
    "# train_set['has_garden'].value_counts()"
   ],
   "outputs": [],
   "execution_count": 112
  },
  {
   "cell_type": "code",
   "id": "643e8d5a-a492-45e5-a4c1-8be0bfaddf80",
   "metadata": {
    "ExecuteTime": {
     "end_time": "2025-06-25T15:06:40.613625Z",
     "start_time": "2025-06-25T15:06:40.606567Z"
    }
   },
   "source": [
    "# housing = train_set.copy()\n"
   ],
   "outputs": [],
   "execution_count": 113
  },
  {
   "cell_type": "markdown",
   "id": "dbfbf978-7832-44cd-8766-8e39dea82158",
   "metadata": {},
   "source": [
    "## one hot encoding for locality and building type "
   ]
  },
  {
   "cell_type": "code",
   "id": "86620ea7-0e29-4502-bb8e-763c636cfe8d",
   "metadata": {
    "ExecuteTime": {
     "end_time": "2025-06-25T15:06:40.644746Z",
     "start_time": "2025-06-25T15:06:40.626756Z"
    }
   },
   "source": [
    "# +\n",
    "# df = pd.DataFrame(data= housing)\n",
    "# df"
   ],
   "outputs": [],
   "execution_count": 114
  },
  {
   "cell_type": "code",
   "id": "a171d476-f99a-4c88-a27f-7bf9e017448e",
   "metadata": {
    "scrolled": true,
    "ExecuteTime": {
     "end_time": "2025-06-25T15:06:40.660160Z",
     "start_time": "2025-06-25T15:06:40.656462Z"
    }
   },
   "source": [
    "# one_encoder = OneHotEncoder(handle_unknown=\"ignore\", sparse_output = False).set_output(transform= 'pandas')\n",
    "# encode_train_set = one_encoder.fit_transform(df[['locality','building_type']])"
   ],
   "outputs": [],
   "execution_count": 115
  },
  {
   "cell_type": "code",
   "id": "3be030a4-748d-41bd-a070-93ee39df6b3c",
   "metadata": {
    "ExecuteTime": {
     "end_time": "2025-06-25T15:06:40.690976Z",
     "start_time": "2025-06-25T15:06:40.681228Z"
    }
   },
   "source": [
    "# encode_train_set"
   ],
   "outputs": [],
   "execution_count": 116
  },
  {
   "cell_type": "code",
   "id": "32c4fb59-0160-4391-ac5d-2949ad094df1",
   "metadata": {
    "ExecuteTime": {
     "end_time": "2025-06-25T15:06:40.706701Z",
     "start_time": "2025-06-25T15:06:40.701016Z"
    }
   },
   "source": [
    "# df = pd.concat([df, encode_train_set], axis=1).drop(columns = ['locality','building_type'])"
   ],
   "outputs": [],
   "execution_count": 117
  },
  {
   "cell_type": "markdown",
   "id": "7c7f63f4-eab9-4a02-9fe4-1df1730c0a08",
   "metadata": {},
   "source": [
    "df.head(15)"
   ]
  },
  {
   "cell_type": "code",
   "id": "4aef3ba5-0bab-46be-bd51-264a39ded4c6",
   "metadata": {
    "ExecuteTime": {
     "end_time": "2025-06-25T15:06:40.722673Z",
     "start_time": "2025-06-25T15:06:40.716692Z"
    }
   },
   "source": [
    "# df.head(15)"
   ],
   "outputs": [],
   "execution_count": 118
  },
  {
   "cell_type": "markdown",
   "id": "26e94933-55e6-4eef-9f9b-00f349dabe2a",
   "metadata": {},
   "source": [
    "## split train feature and labels"
   ]
  },
  {
   "cell_type": "code",
   "id": "fd422fd2-e56a-45dd-834a-d07aa71a0acf",
   "metadata": {
    "ExecuteTime": {
     "end_time": "2025-06-25T15:06:40.753480Z",
     "start_time": "2025-06-25T15:06:40.733380Z"
    }
   },
   "source": [
    "x_train = train_set.drop(\"price_inr\", axis=1)\n",
    "y_train = np.log1p(train_set[\"price_inr\"])\n",
    "# house_feature = df.drop(\"price_inr\", axis=1)\n",
    "# house_label = df[\"price_inr\"].copy()"
   ],
   "outputs": [],
   "execution_count": 119
  },
  {
   "cell_type": "code",
   "id": "7a6cf8d8-f025-499e-bb16-6c5a0dff6a7e",
   "metadata": {
    "ExecuteTime": {
     "end_time": "2025-06-25T15:06:40.784390Z",
     "start_time": "2025-06-25T15:06:40.767439Z"
    }
   },
   "source": [
    "# house_feature.head()"
   ],
   "outputs": [],
   "execution_count": 120
  },
  {
   "cell_type": "markdown",
   "id": "53a5f397-260a-4efb-841d-5c15e59ffd13",
   "metadata": {},
   "source": [
    "<!-- df.info() -->"
   ]
  },
  {
   "cell_type": "markdown",
   "id": "f0221b8d-fe61-433e-9f66-d934142f4689",
   "metadata": {},
   "source": [
    "## take care of missing value in parking_spaces"
   ]
  },
  {
   "cell_type": "code",
   "id": "5477ebf8-6dd8-4ba2-9ad6-b5ee0ae5a99a",
   "metadata": {
    "ExecuteTime": {
     "end_time": "2025-06-25T15:06:40.816031Z",
     "start_time": "2025-06-25T15:06:40.799318Z"
    }
   },
   "source": [
    "#using panda\n",
    "# median = house_feature[\"parking_spaces\"].median()\n",
    "# house_feature[\"parking_spaces\"].fillna"
   ],
   "outputs": [],
   "execution_count": 121
  },
  {
   "cell_type": "code",
   "id": "e911d696-a4c6-4cee-8976-19dce4ec4de5",
   "metadata": {
    "ExecuteTime": {
     "end_time": "2025-06-25T15:06:40.847562Z",
     "start_time": "2025-06-25T15:06:40.828608Z"
    }
   },
   "source": [
    "# house_feature.shape"
   ],
   "outputs": [],
   "execution_count": 122
  },
  {
   "cell_type": "code",
   "id": "ea73511d-e3d7-4836-8f28-d9c7ed49dcb3",
   "metadata": {
    "ExecuteTime": {
     "end_time": "2025-06-25T15:06:40.878482Z",
     "start_time": "2025-06-25T15:06:40.858359Z"
    }
   },
   "source": [
    "##using sklearn inbuild method\n",
    "# from sklearn.impute import SimpleImputer\n",
    "# imputer = SimpleImputer(strategy = \"median\")\n",
    "# housing_training = imputer.fit_transform(house_feature)"
   ],
   "outputs": [],
   "execution_count": 123
  },
  {
   "cell_type": "code",
   "id": "5dcee259-b159-45b8-84cd-e442eecbe91e",
   "metadata": {
    "ExecuteTime": {
     "end_time": "2025-06-25T15:06:40.910515Z",
     "start_time": "2025-06-25T15:06:40.890360Z"
    }
   },
   "source": [
    "# housing_training"
   ],
   "outputs": [],
   "execution_count": 124
  },
  {
   "cell_type": "code",
   "id": "9ef70b54-9125-4b26-a5db-207a24106fa0",
   "metadata": {
    "ExecuteTime": {
     "end_time": "2025-06-25T15:06:40.942587Z",
     "start_time": "2025-06-25T15:06:40.923380Z"
    }
   },
   "source": [
    "# houses_training = pd.DataFrame(data = housing_training)"
   ],
   "outputs": [],
   "execution_count": 125
  },
  {
   "cell_type": "code",
   "id": "0cb7c228-8983-4f07-861a-3c848cef353d",
   "metadata": {
    "ExecuteTime": {
     "end_time": "2025-06-25T15:06:40.973469Z",
     "start_time": "2025-06-25T15:06:40.957949Z"
    }
   },
   "source": [
    "# houses_training.info()"
   ],
   "outputs": [],
   "execution_count": 126
  },
  {
   "cell_type": "markdown",
   "id": "90ddce5d-0a89-41a4-a527-293ef45012cd",
   "metadata": {},
   "source": [
    "## ALL set now create pipe line for making it easier to understand"
   ]
  },
  {
   "cell_type": "code",
   "id": "60f42134-9c5b-45fc-9667-7076a34ceb28",
   "metadata": {
    "ExecuteTime": {
     "end_time": "2025-06-25T15:06:41.003953Z",
     "start_time": "2025-06-25T15:06:40.985708Z"
    }
   },
   "source": [
    "#import all again for simple and comment out above all \n",
    "from sklearn.compose import ColumnTransformer\n",
    "from sklearn.pipeline import Pipeline\n",
    "from sklearn.preprocessing import OneHotEncoder, StandardScaler\n",
    "from sklearn.impute import SimpleImputer"
   ],
   "outputs": [],
   "execution_count": 127
  },
  {
   "cell_type": "code",
   "id": "c7ad1732-08f2-4d10-b160-7c4400a0f24f",
   "metadata": {
    "ExecuteTime": {
     "end_time": "2025-06-25T15:06:41.035778Z",
     "start_time": "2025-06-25T15:06:41.015687Z"
    }
   },
   "source": [
    "# number columns one side\n",
    "num_cols = [\"area_sqft\", \"bedrooms\", \"bathrooms\", \"house_age_years\",\"year_built\", \"floor_number\", \"parking_spaces\", \"has_garden\"]\n",
    "# categorize column that we will handle it using one hot encode\n",
    "catg_cols = [\"locality\", \"building_type\"]"
   ],
   "outputs": [],
   "execution_count": 128
  },
  {
   "cell_type": "code",
   "id": "09da7f04-a8ef-49b8-9289-1fe38825f811",
   "metadata": {
    "ExecuteTime": {
     "end_time": "2025-06-25T15:06:41.066227Z",
     "start_time": "2025-06-25T15:06:41.048054Z"
    }
   },
   "source": [
    "#pipe line for both \n",
    "num_pipe = Pipeline([\n",
    "    (\"imputer\", SimpleImputer(strategy=\"median\")),\n",
    "    (\"scaler\",  StandardScaler())\n",
    "])\n",
    "\n",
    "catg_pipe = Pipeline([\n",
    "    (\"imputer\", SimpleImputer(strategy=\"most_frequent\")),\n",
    "    (\"onehot\",  OneHotEncoder(handle_unknown=\"ignore\"))\n",
    "])"
   ],
   "outputs": [],
   "execution_count": 129
  },
  {
   "cell_type": "code",
   "id": "6e9245f3-413b-47e1-9899-0155d9e73c69",
   "metadata": {
    "ExecuteTime": {
     "end_time": "2025-06-25T15:06:41.127764Z",
     "start_time": "2025-06-25T15:06:41.109317Z"
    }
   },
   "source": [
    "# Building safe preprocessing block inside a ColumnTransformer\n",
    "\n",
    "preprocess = ColumnTransformer([\n",
    "    (\"num\", num_pipe, num_cols),\n",
    "    (\"cat\", catg_pipe, catg_cols)\n",
    "])"
   ],
   "outputs": [],
   "execution_count": 130
  },
  {
   "cell_type": "code",
   "id": "09ece76c-95f7-46be-b323-48571eb73760",
   "metadata": {
    "ExecuteTime": {
     "end_time": "2025-06-25T15:06:41.143329Z",
     "start_time": "2025-06-25T15:06:41.135186Z"
    }
   },
   "source": [
    "\n"
   ],
   "outputs": [],
   "execution_count": 130
  },
  {
   "cell_type": "code",
   "id": "0b93d9d4-248c-46ad-b218-07827b78ec3e",
   "metadata": {
    "ExecuteTime": {
     "end_time": "2025-06-25T15:06:41.158554Z",
     "start_time": "2025-06-25T15:06:41.153106Z"
    }
   },
   "source": [],
   "outputs": [],
   "execution_count": null
  },
  {
   "cell_type": "markdown",
   "id": "79ab53c3-4f8f-4a5e-b055-bd4bdc7db096",
   "metadata": {},
   "source": [
    "## selecting the model"
   ]
  },
  {
   "cell_type": "code",
   "id": "9e08c8a9-467e-4e6b-8302-82ac9b0a0c1b",
   "metadata": {
    "ExecuteTime": {
     "end_time": "2025-06-25T15:06:41.189725Z",
     "start_time": "2025-06-25T15:06:41.177325Z"
    }
   },
   "source": [
    "from sklearn.linear_model import LinearRegression\n",
    "from sklearn.tree import DecisionTreeRegressor\n",
    "from sklearn.ensemble import RandomForestRegressor"
   ],
   "outputs": [],
   "execution_count": 131
  },
  {
   "cell_type": "code",
   "id": "209841e1-a2fc-4160-a249-efb15c0717ec",
   "metadata": {
    "ExecuteTime": {
     "end_time": "2025-06-25T15:06:59.609676Z",
     "start_time": "2025-06-25T15:06:41.200823Z"
    }
   },
   "source": [
    "main_pipe = Pipeline([\n",
    "(\"prep\", preprocess),\n",
    "(\"model\", RandomForestRegressor(\n",
    "        n_estimators=400,\n",
    "        max_depth=None,\n",
    "        random_state=42\n",
    "))\n",
    "])\n",
    "\n",
    "main_pipe.fit(x_train, y_train)"
   ],
   "outputs": [
    {
     "data": {
      "text/plain": [
       "Pipeline(steps=[('prep',\n",
       "                 ColumnTransformer(transformers=[('num',\n",
       "                                                  Pipeline(steps=[('imputer',\n",
       "                                                                   SimpleImputer(strategy='median')),\n",
       "                                                                  ('scaler',\n",
       "                                                                   StandardScaler())]),\n",
       "                                                  ['area_sqft', 'bedrooms',\n",
       "                                                   'bathrooms',\n",
       "                                                   'house_age_years',\n",
       "                                                   'year_built', 'floor_number',\n",
       "                                                   'parking_spaces',\n",
       "                                                   'has_garden']),\n",
       "                                                 ('cat',\n",
       "                                                  Pipeline(steps=[('imputer',\n",
       "                                                                   SimpleImputer(strategy='most_frequent')),\n",
       "                                                                  ('onehot',\n",
       "                                                                   OneHotEncoder(handle_unknown='ignore'))]),\n",
       "                                                  ['locality',\n",
       "                                                   'building_type'])])),\n",
       "                ('model',\n",
       "                 RandomForestRegressor(n_estimators=400, random_state=42))])"
      ],
      "text/html": [
       "<style>#sk-container-id-3 {\n",
       "  /* Definition of color scheme common for light and dark mode */\n",
       "  --sklearn-color-text: #000;\n",
       "  --sklearn-color-text-muted: #666;\n",
       "  --sklearn-color-line: gray;\n",
       "  /* Definition of color scheme for unfitted estimators */\n",
       "  --sklearn-color-unfitted-level-0: #fff5e6;\n",
       "  --sklearn-color-unfitted-level-1: #f6e4d2;\n",
       "  --sklearn-color-unfitted-level-2: #ffe0b3;\n",
       "  --sklearn-color-unfitted-level-3: chocolate;\n",
       "  /* Definition of color scheme for fitted estimators */\n",
       "  --sklearn-color-fitted-level-0: #f0f8ff;\n",
       "  --sklearn-color-fitted-level-1: #d4ebff;\n",
       "  --sklearn-color-fitted-level-2: #b3dbfd;\n",
       "  --sklearn-color-fitted-level-3: cornflowerblue;\n",
       "\n",
       "  /* Specific color for light theme */\n",
       "  --sklearn-color-text-on-default-background: var(--sg-text-color, var(--theme-code-foreground, var(--jp-content-font-color1, black)));\n",
       "  --sklearn-color-background: var(--sg-background-color, var(--theme-background, var(--jp-layout-color0, white)));\n",
       "  --sklearn-color-border-box: var(--sg-text-color, var(--theme-code-foreground, var(--jp-content-font-color1, black)));\n",
       "  --sklearn-color-icon: #696969;\n",
       "\n",
       "  @media (prefers-color-scheme: dark) {\n",
       "    /* Redefinition of color scheme for dark theme */\n",
       "    --sklearn-color-text-on-default-background: var(--sg-text-color, var(--theme-code-foreground, var(--jp-content-font-color1, white)));\n",
       "    --sklearn-color-background: var(--sg-background-color, var(--theme-background, var(--jp-layout-color0, #111)));\n",
       "    --sklearn-color-border-box: var(--sg-text-color, var(--theme-code-foreground, var(--jp-content-font-color1, white)));\n",
       "    --sklearn-color-icon: #878787;\n",
       "  }\n",
       "}\n",
       "\n",
       "#sk-container-id-3 {\n",
       "  color: var(--sklearn-color-text);\n",
       "}\n",
       "\n",
       "#sk-container-id-3 pre {\n",
       "  padding: 0;\n",
       "}\n",
       "\n",
       "#sk-container-id-3 input.sk-hidden--visually {\n",
       "  border: 0;\n",
       "  clip: rect(1px 1px 1px 1px);\n",
       "  clip: rect(1px, 1px, 1px, 1px);\n",
       "  height: 1px;\n",
       "  margin: -1px;\n",
       "  overflow: hidden;\n",
       "  padding: 0;\n",
       "  position: absolute;\n",
       "  width: 1px;\n",
       "}\n",
       "\n",
       "#sk-container-id-3 div.sk-dashed-wrapped {\n",
       "  border: 1px dashed var(--sklearn-color-line);\n",
       "  margin: 0 0.4em 0.5em 0.4em;\n",
       "  box-sizing: border-box;\n",
       "  padding-bottom: 0.4em;\n",
       "  background-color: var(--sklearn-color-background);\n",
       "}\n",
       "\n",
       "#sk-container-id-3 div.sk-container {\n",
       "  /* jupyter's `normalize.less` sets `[hidden] { display: none; }`\n",
       "     but bootstrap.min.css set `[hidden] { display: none !important; }`\n",
       "     so we also need the `!important` here to be able to override the\n",
       "     default hidden behavior on the sphinx rendered scikit-learn.org.\n",
       "     See: https://github.com/scikit-learn/scikit-learn/issues/21755 */\n",
       "  display: inline-block !important;\n",
       "  position: relative;\n",
       "}\n",
       "\n",
       "#sk-container-id-3 div.sk-text-repr-fallback {\n",
       "  display: none;\n",
       "}\n",
       "\n",
       "div.sk-parallel-item,\n",
       "div.sk-serial,\n",
       "div.sk-item {\n",
       "  /* draw centered vertical line to link estimators */\n",
       "  background-image: linear-gradient(var(--sklearn-color-text-on-default-background), var(--sklearn-color-text-on-default-background));\n",
       "  background-size: 2px 100%;\n",
       "  background-repeat: no-repeat;\n",
       "  background-position: center center;\n",
       "}\n",
       "\n",
       "/* Parallel-specific style estimator block */\n",
       "\n",
       "#sk-container-id-3 div.sk-parallel-item::after {\n",
       "  content: \"\";\n",
       "  width: 100%;\n",
       "  border-bottom: 2px solid var(--sklearn-color-text-on-default-background);\n",
       "  flex-grow: 1;\n",
       "}\n",
       "\n",
       "#sk-container-id-3 div.sk-parallel {\n",
       "  display: flex;\n",
       "  align-items: stretch;\n",
       "  justify-content: center;\n",
       "  background-color: var(--sklearn-color-background);\n",
       "  position: relative;\n",
       "}\n",
       "\n",
       "#sk-container-id-3 div.sk-parallel-item {\n",
       "  display: flex;\n",
       "  flex-direction: column;\n",
       "}\n",
       "\n",
       "#sk-container-id-3 div.sk-parallel-item:first-child::after {\n",
       "  align-self: flex-end;\n",
       "  width: 50%;\n",
       "}\n",
       "\n",
       "#sk-container-id-3 div.sk-parallel-item:last-child::after {\n",
       "  align-self: flex-start;\n",
       "  width: 50%;\n",
       "}\n",
       "\n",
       "#sk-container-id-3 div.sk-parallel-item:only-child::after {\n",
       "  width: 0;\n",
       "}\n",
       "\n",
       "/* Serial-specific style estimator block */\n",
       "\n",
       "#sk-container-id-3 div.sk-serial {\n",
       "  display: flex;\n",
       "  flex-direction: column;\n",
       "  align-items: center;\n",
       "  background-color: var(--sklearn-color-background);\n",
       "  padding-right: 1em;\n",
       "  padding-left: 1em;\n",
       "}\n",
       "\n",
       "\n",
       "/* Toggleable style: style used for estimator/Pipeline/ColumnTransformer box that is\n",
       "clickable and can be expanded/collapsed.\n",
       "- Pipeline and ColumnTransformer use this feature and define the default style\n",
       "- Estimators will overwrite some part of the style using the `sk-estimator` class\n",
       "*/\n",
       "\n",
       "/* Pipeline and ColumnTransformer style (default) */\n",
       "\n",
       "#sk-container-id-3 div.sk-toggleable {\n",
       "  /* Default theme specific background. It is overwritten whether we have a\n",
       "  specific estimator or a Pipeline/ColumnTransformer */\n",
       "  background-color: var(--sklearn-color-background);\n",
       "}\n",
       "\n",
       "/* Toggleable label */\n",
       "#sk-container-id-3 label.sk-toggleable__label {\n",
       "  cursor: pointer;\n",
       "  display: flex;\n",
       "  width: 100%;\n",
       "  margin-bottom: 0;\n",
       "  padding: 0.5em;\n",
       "  box-sizing: border-box;\n",
       "  text-align: center;\n",
       "  align-items: start;\n",
       "  justify-content: space-between;\n",
       "  gap: 0.5em;\n",
       "}\n",
       "\n",
       "#sk-container-id-3 label.sk-toggleable__label .caption {\n",
       "  font-size: 0.6rem;\n",
       "  font-weight: lighter;\n",
       "  color: var(--sklearn-color-text-muted);\n",
       "}\n",
       "\n",
       "#sk-container-id-3 label.sk-toggleable__label-arrow:before {\n",
       "  /* Arrow on the left of the label */\n",
       "  content: \"▸\";\n",
       "  float: left;\n",
       "  margin-right: 0.25em;\n",
       "  color: var(--sklearn-color-icon);\n",
       "}\n",
       "\n",
       "#sk-container-id-3 label.sk-toggleable__label-arrow:hover:before {\n",
       "  color: var(--sklearn-color-text);\n",
       "}\n",
       "\n",
       "/* Toggleable content - dropdown */\n",
       "\n",
       "#sk-container-id-3 div.sk-toggleable__content {\n",
       "  max-height: 0;\n",
       "  max-width: 0;\n",
       "  overflow: hidden;\n",
       "  text-align: left;\n",
       "  /* unfitted */\n",
       "  background-color: var(--sklearn-color-unfitted-level-0);\n",
       "}\n",
       "\n",
       "#sk-container-id-3 div.sk-toggleable__content.fitted {\n",
       "  /* fitted */\n",
       "  background-color: var(--sklearn-color-fitted-level-0);\n",
       "}\n",
       "\n",
       "#sk-container-id-3 div.sk-toggleable__content pre {\n",
       "  margin: 0.2em;\n",
       "  border-radius: 0.25em;\n",
       "  color: var(--sklearn-color-text);\n",
       "  /* unfitted */\n",
       "  background-color: var(--sklearn-color-unfitted-level-0);\n",
       "}\n",
       "\n",
       "#sk-container-id-3 div.sk-toggleable__content.fitted pre {\n",
       "  /* unfitted */\n",
       "  background-color: var(--sklearn-color-fitted-level-0);\n",
       "}\n",
       "\n",
       "#sk-container-id-3 input.sk-toggleable__control:checked~div.sk-toggleable__content {\n",
       "  /* Expand drop-down */\n",
       "  max-height: 200px;\n",
       "  max-width: 100%;\n",
       "  overflow: auto;\n",
       "}\n",
       "\n",
       "#sk-container-id-3 input.sk-toggleable__control:checked~label.sk-toggleable__label-arrow:before {\n",
       "  content: \"▾\";\n",
       "}\n",
       "\n",
       "/* Pipeline/ColumnTransformer-specific style */\n",
       "\n",
       "#sk-container-id-3 div.sk-label input.sk-toggleable__control:checked~label.sk-toggleable__label {\n",
       "  color: var(--sklearn-color-text);\n",
       "  background-color: var(--sklearn-color-unfitted-level-2);\n",
       "}\n",
       "\n",
       "#sk-container-id-3 div.sk-label.fitted input.sk-toggleable__control:checked~label.sk-toggleable__label {\n",
       "  background-color: var(--sklearn-color-fitted-level-2);\n",
       "}\n",
       "\n",
       "/* Estimator-specific style */\n",
       "\n",
       "/* Colorize estimator box */\n",
       "#sk-container-id-3 div.sk-estimator input.sk-toggleable__control:checked~label.sk-toggleable__label {\n",
       "  /* unfitted */\n",
       "  background-color: var(--sklearn-color-unfitted-level-2);\n",
       "}\n",
       "\n",
       "#sk-container-id-3 div.sk-estimator.fitted input.sk-toggleable__control:checked~label.sk-toggleable__label {\n",
       "  /* fitted */\n",
       "  background-color: var(--sklearn-color-fitted-level-2);\n",
       "}\n",
       "\n",
       "#sk-container-id-3 div.sk-label label.sk-toggleable__label,\n",
       "#sk-container-id-3 div.sk-label label {\n",
       "  /* The background is the default theme color */\n",
       "  color: var(--sklearn-color-text-on-default-background);\n",
       "}\n",
       "\n",
       "/* On hover, darken the color of the background */\n",
       "#sk-container-id-3 div.sk-label:hover label.sk-toggleable__label {\n",
       "  color: var(--sklearn-color-text);\n",
       "  background-color: var(--sklearn-color-unfitted-level-2);\n",
       "}\n",
       "\n",
       "/* Label box, darken color on hover, fitted */\n",
       "#sk-container-id-3 div.sk-label.fitted:hover label.sk-toggleable__label.fitted {\n",
       "  color: var(--sklearn-color-text);\n",
       "  background-color: var(--sklearn-color-fitted-level-2);\n",
       "}\n",
       "\n",
       "/* Estimator label */\n",
       "\n",
       "#sk-container-id-3 div.sk-label label {\n",
       "  font-family: monospace;\n",
       "  font-weight: bold;\n",
       "  display: inline-block;\n",
       "  line-height: 1.2em;\n",
       "}\n",
       "\n",
       "#sk-container-id-3 div.sk-label-container {\n",
       "  text-align: center;\n",
       "}\n",
       "\n",
       "/* Estimator-specific */\n",
       "#sk-container-id-3 div.sk-estimator {\n",
       "  font-family: monospace;\n",
       "  border: 1px dotted var(--sklearn-color-border-box);\n",
       "  border-radius: 0.25em;\n",
       "  box-sizing: border-box;\n",
       "  margin-bottom: 0.5em;\n",
       "  /* unfitted */\n",
       "  background-color: var(--sklearn-color-unfitted-level-0);\n",
       "}\n",
       "\n",
       "#sk-container-id-3 div.sk-estimator.fitted {\n",
       "  /* fitted */\n",
       "  background-color: var(--sklearn-color-fitted-level-0);\n",
       "}\n",
       "\n",
       "/* on hover */\n",
       "#sk-container-id-3 div.sk-estimator:hover {\n",
       "  /* unfitted */\n",
       "  background-color: var(--sklearn-color-unfitted-level-2);\n",
       "}\n",
       "\n",
       "#sk-container-id-3 div.sk-estimator.fitted:hover {\n",
       "  /* fitted */\n",
       "  background-color: var(--sklearn-color-fitted-level-2);\n",
       "}\n",
       "\n",
       "/* Specification for estimator info (e.g. \"i\" and \"?\") */\n",
       "\n",
       "/* Common style for \"i\" and \"?\" */\n",
       "\n",
       ".sk-estimator-doc-link,\n",
       "a:link.sk-estimator-doc-link,\n",
       "a:visited.sk-estimator-doc-link {\n",
       "  float: right;\n",
       "  font-size: smaller;\n",
       "  line-height: 1em;\n",
       "  font-family: monospace;\n",
       "  background-color: var(--sklearn-color-background);\n",
       "  border-radius: 1em;\n",
       "  height: 1em;\n",
       "  width: 1em;\n",
       "  text-decoration: none !important;\n",
       "  margin-left: 0.5em;\n",
       "  text-align: center;\n",
       "  /* unfitted */\n",
       "  border: var(--sklearn-color-unfitted-level-1) 1pt solid;\n",
       "  color: var(--sklearn-color-unfitted-level-1);\n",
       "}\n",
       "\n",
       ".sk-estimator-doc-link.fitted,\n",
       "a:link.sk-estimator-doc-link.fitted,\n",
       "a:visited.sk-estimator-doc-link.fitted {\n",
       "  /* fitted */\n",
       "  border: var(--sklearn-color-fitted-level-1) 1pt solid;\n",
       "  color: var(--sklearn-color-fitted-level-1);\n",
       "}\n",
       "\n",
       "/* On hover */\n",
       "div.sk-estimator:hover .sk-estimator-doc-link:hover,\n",
       ".sk-estimator-doc-link:hover,\n",
       "div.sk-label-container:hover .sk-estimator-doc-link:hover,\n",
       ".sk-estimator-doc-link:hover {\n",
       "  /* unfitted */\n",
       "  background-color: var(--sklearn-color-unfitted-level-3);\n",
       "  color: var(--sklearn-color-background);\n",
       "  text-decoration: none;\n",
       "}\n",
       "\n",
       "div.sk-estimator.fitted:hover .sk-estimator-doc-link.fitted:hover,\n",
       ".sk-estimator-doc-link.fitted:hover,\n",
       "div.sk-label-container:hover .sk-estimator-doc-link.fitted:hover,\n",
       ".sk-estimator-doc-link.fitted:hover {\n",
       "  /* fitted */\n",
       "  background-color: var(--sklearn-color-fitted-level-3);\n",
       "  color: var(--sklearn-color-background);\n",
       "  text-decoration: none;\n",
       "}\n",
       "\n",
       "/* Span, style for the box shown on hovering the info icon */\n",
       ".sk-estimator-doc-link span {\n",
       "  display: none;\n",
       "  z-index: 9999;\n",
       "  position: relative;\n",
       "  font-weight: normal;\n",
       "  right: .2ex;\n",
       "  padding: .5ex;\n",
       "  margin: .5ex;\n",
       "  width: min-content;\n",
       "  min-width: 20ex;\n",
       "  max-width: 50ex;\n",
       "  color: var(--sklearn-color-text);\n",
       "  box-shadow: 2pt 2pt 4pt #999;\n",
       "  /* unfitted */\n",
       "  background: var(--sklearn-color-unfitted-level-0);\n",
       "  border: .5pt solid var(--sklearn-color-unfitted-level-3);\n",
       "}\n",
       "\n",
       ".sk-estimator-doc-link.fitted span {\n",
       "  /* fitted */\n",
       "  background: var(--sklearn-color-fitted-level-0);\n",
       "  border: var(--sklearn-color-fitted-level-3);\n",
       "}\n",
       "\n",
       ".sk-estimator-doc-link:hover span {\n",
       "  display: block;\n",
       "}\n",
       "\n",
       "/* \"?\"-specific style due to the `<a>` HTML tag */\n",
       "\n",
       "#sk-container-id-3 a.estimator_doc_link {\n",
       "  float: right;\n",
       "  font-size: 1rem;\n",
       "  line-height: 1em;\n",
       "  font-family: monospace;\n",
       "  background-color: var(--sklearn-color-background);\n",
       "  border-radius: 1rem;\n",
       "  height: 1rem;\n",
       "  width: 1rem;\n",
       "  text-decoration: none;\n",
       "  /* unfitted */\n",
       "  color: var(--sklearn-color-unfitted-level-1);\n",
       "  border: var(--sklearn-color-unfitted-level-1) 1pt solid;\n",
       "}\n",
       "\n",
       "#sk-container-id-3 a.estimator_doc_link.fitted {\n",
       "  /* fitted */\n",
       "  border: var(--sklearn-color-fitted-level-1) 1pt solid;\n",
       "  color: var(--sklearn-color-fitted-level-1);\n",
       "}\n",
       "\n",
       "/* On hover */\n",
       "#sk-container-id-3 a.estimator_doc_link:hover {\n",
       "  /* unfitted */\n",
       "  background-color: var(--sklearn-color-unfitted-level-3);\n",
       "  color: var(--sklearn-color-background);\n",
       "  text-decoration: none;\n",
       "}\n",
       "\n",
       "#sk-container-id-3 a.estimator_doc_link.fitted:hover {\n",
       "  /* fitted */\n",
       "  background-color: var(--sklearn-color-fitted-level-3);\n",
       "}\n",
       "</style><div id=\"sk-container-id-3\" class=\"sk-top-container\"><div class=\"sk-text-repr-fallback\"><pre>Pipeline(steps=[(&#x27;prep&#x27;,\n",
       "                 ColumnTransformer(transformers=[(&#x27;num&#x27;,\n",
       "                                                  Pipeline(steps=[(&#x27;imputer&#x27;,\n",
       "                                                                   SimpleImputer(strategy=&#x27;median&#x27;)),\n",
       "                                                                  (&#x27;scaler&#x27;,\n",
       "                                                                   StandardScaler())]),\n",
       "                                                  [&#x27;area_sqft&#x27;, &#x27;bedrooms&#x27;,\n",
       "                                                   &#x27;bathrooms&#x27;,\n",
       "                                                   &#x27;house_age_years&#x27;,\n",
       "                                                   &#x27;year_built&#x27;, &#x27;floor_number&#x27;,\n",
       "                                                   &#x27;parking_spaces&#x27;,\n",
       "                                                   &#x27;has_garden&#x27;]),\n",
       "                                                 (&#x27;cat&#x27;,\n",
       "                                                  Pipeline(steps=[(&#x27;imputer&#x27;,\n",
       "                                                                   SimpleImputer(strategy=&#x27;most_frequent&#x27;)),\n",
       "                                                                  (&#x27;onehot&#x27;,\n",
       "                                                                   OneHotEncoder(handle_unknown=&#x27;ignore&#x27;))]),\n",
       "                                                  [&#x27;locality&#x27;,\n",
       "                                                   &#x27;building_type&#x27;])])),\n",
       "                (&#x27;model&#x27;,\n",
       "                 RandomForestRegressor(n_estimators=400, random_state=42))])</pre><b>In a Jupyter environment, please rerun this cell to show the HTML representation or trust the notebook. <br />On GitHub, the HTML representation is unable to render, please try loading this page with nbviewer.org.</b></div><div class=\"sk-container\" hidden><div class=\"sk-item sk-dashed-wrapped\"><div class=\"sk-label-container\"><div class=\"sk-label fitted sk-toggleable\"><input class=\"sk-toggleable__control sk-hidden--visually\" id=\"sk-estimator-id-19\" type=\"checkbox\" ><label for=\"sk-estimator-id-19\" class=\"sk-toggleable__label fitted sk-toggleable__label-arrow\"><div><div>Pipeline</div></div><div><a class=\"sk-estimator-doc-link fitted\" rel=\"noreferrer\" target=\"_blank\" href=\"https://scikit-learn.org/1.6/modules/generated/sklearn.pipeline.Pipeline.html\">?<span>Documentation for Pipeline</span></a><span class=\"sk-estimator-doc-link fitted\">i<span>Fitted</span></span></div></label><div class=\"sk-toggleable__content fitted\"><pre>Pipeline(steps=[(&#x27;prep&#x27;,\n",
       "                 ColumnTransformer(transformers=[(&#x27;num&#x27;,\n",
       "                                                  Pipeline(steps=[(&#x27;imputer&#x27;,\n",
       "                                                                   SimpleImputer(strategy=&#x27;median&#x27;)),\n",
       "                                                                  (&#x27;scaler&#x27;,\n",
       "                                                                   StandardScaler())]),\n",
       "                                                  [&#x27;area_sqft&#x27;, &#x27;bedrooms&#x27;,\n",
       "                                                   &#x27;bathrooms&#x27;,\n",
       "                                                   &#x27;house_age_years&#x27;,\n",
       "                                                   &#x27;year_built&#x27;, &#x27;floor_number&#x27;,\n",
       "                                                   &#x27;parking_spaces&#x27;,\n",
       "                                                   &#x27;has_garden&#x27;]),\n",
       "                                                 (&#x27;cat&#x27;,\n",
       "                                                  Pipeline(steps=[(&#x27;imputer&#x27;,\n",
       "                                                                   SimpleImputer(strategy=&#x27;most_frequent&#x27;)),\n",
       "                                                                  (&#x27;onehot&#x27;,\n",
       "                                                                   OneHotEncoder(handle_unknown=&#x27;ignore&#x27;))]),\n",
       "                                                  [&#x27;locality&#x27;,\n",
       "                                                   &#x27;building_type&#x27;])])),\n",
       "                (&#x27;model&#x27;,\n",
       "                 RandomForestRegressor(n_estimators=400, random_state=42))])</pre></div> </div></div><div class=\"sk-serial\"><div class=\"sk-item sk-dashed-wrapped\"><div class=\"sk-label-container\"><div class=\"sk-label fitted sk-toggleable\"><input class=\"sk-toggleable__control sk-hidden--visually\" id=\"sk-estimator-id-20\" type=\"checkbox\" ><label for=\"sk-estimator-id-20\" class=\"sk-toggleable__label fitted sk-toggleable__label-arrow\"><div><div>prep: ColumnTransformer</div></div><div><a class=\"sk-estimator-doc-link fitted\" rel=\"noreferrer\" target=\"_blank\" href=\"https://scikit-learn.org/1.6/modules/generated/sklearn.compose.ColumnTransformer.html\">?<span>Documentation for prep: ColumnTransformer</span></a></div></label><div class=\"sk-toggleable__content fitted\"><pre>ColumnTransformer(transformers=[(&#x27;num&#x27;,\n",
       "                                 Pipeline(steps=[(&#x27;imputer&#x27;,\n",
       "                                                  SimpleImputer(strategy=&#x27;median&#x27;)),\n",
       "                                                 (&#x27;scaler&#x27;, StandardScaler())]),\n",
       "                                 [&#x27;area_sqft&#x27;, &#x27;bedrooms&#x27;, &#x27;bathrooms&#x27;,\n",
       "                                  &#x27;house_age_years&#x27;, &#x27;year_built&#x27;,\n",
       "                                  &#x27;floor_number&#x27;, &#x27;parking_spaces&#x27;,\n",
       "                                  &#x27;has_garden&#x27;]),\n",
       "                                (&#x27;cat&#x27;,\n",
       "                                 Pipeline(steps=[(&#x27;imputer&#x27;,\n",
       "                                                  SimpleImputer(strategy=&#x27;most_frequent&#x27;)),\n",
       "                                                 (&#x27;onehot&#x27;,\n",
       "                                                  OneHotEncoder(handle_unknown=&#x27;ignore&#x27;))]),\n",
       "                                 [&#x27;locality&#x27;, &#x27;building_type&#x27;])])</pre></div> </div></div><div class=\"sk-parallel\"><div class=\"sk-parallel-item\"><div class=\"sk-item\"><div class=\"sk-label-container\"><div class=\"sk-label fitted sk-toggleable\"><input class=\"sk-toggleable__control sk-hidden--visually\" id=\"sk-estimator-id-21\" type=\"checkbox\" ><label for=\"sk-estimator-id-21\" class=\"sk-toggleable__label fitted sk-toggleable__label-arrow\"><div><div>num</div></div></label><div class=\"sk-toggleable__content fitted\"><pre>[&#x27;area_sqft&#x27;, &#x27;bedrooms&#x27;, &#x27;bathrooms&#x27;, &#x27;house_age_years&#x27;, &#x27;year_built&#x27;, &#x27;floor_number&#x27;, &#x27;parking_spaces&#x27;, &#x27;has_garden&#x27;]</pre></div> </div></div><div class=\"sk-serial\"><div class=\"sk-item\"><div class=\"sk-serial\"><div class=\"sk-item\"><div class=\"sk-estimator fitted sk-toggleable\"><input class=\"sk-toggleable__control sk-hidden--visually\" id=\"sk-estimator-id-22\" type=\"checkbox\" ><label for=\"sk-estimator-id-22\" class=\"sk-toggleable__label fitted sk-toggleable__label-arrow\"><div><div>SimpleImputer</div></div><div><a class=\"sk-estimator-doc-link fitted\" rel=\"noreferrer\" target=\"_blank\" href=\"https://scikit-learn.org/1.6/modules/generated/sklearn.impute.SimpleImputer.html\">?<span>Documentation for SimpleImputer</span></a></div></label><div class=\"sk-toggleable__content fitted\"><pre>SimpleImputer(strategy=&#x27;median&#x27;)</pre></div> </div></div><div class=\"sk-item\"><div class=\"sk-estimator fitted sk-toggleable\"><input class=\"sk-toggleable__control sk-hidden--visually\" id=\"sk-estimator-id-23\" type=\"checkbox\" ><label for=\"sk-estimator-id-23\" class=\"sk-toggleable__label fitted sk-toggleable__label-arrow\"><div><div>StandardScaler</div></div><div><a class=\"sk-estimator-doc-link fitted\" rel=\"noreferrer\" target=\"_blank\" href=\"https://scikit-learn.org/1.6/modules/generated/sklearn.preprocessing.StandardScaler.html\">?<span>Documentation for StandardScaler</span></a></div></label><div class=\"sk-toggleable__content fitted\"><pre>StandardScaler()</pre></div> </div></div></div></div></div></div></div><div class=\"sk-parallel-item\"><div class=\"sk-item\"><div class=\"sk-label-container\"><div class=\"sk-label fitted sk-toggleable\"><input class=\"sk-toggleable__control sk-hidden--visually\" id=\"sk-estimator-id-24\" type=\"checkbox\" ><label for=\"sk-estimator-id-24\" class=\"sk-toggleable__label fitted sk-toggleable__label-arrow\"><div><div>cat</div></div></label><div class=\"sk-toggleable__content fitted\"><pre>[&#x27;locality&#x27;, &#x27;building_type&#x27;]</pre></div> </div></div><div class=\"sk-serial\"><div class=\"sk-item\"><div class=\"sk-serial\"><div class=\"sk-item\"><div class=\"sk-estimator fitted sk-toggleable\"><input class=\"sk-toggleable__control sk-hidden--visually\" id=\"sk-estimator-id-25\" type=\"checkbox\" ><label for=\"sk-estimator-id-25\" class=\"sk-toggleable__label fitted sk-toggleable__label-arrow\"><div><div>SimpleImputer</div></div><div><a class=\"sk-estimator-doc-link fitted\" rel=\"noreferrer\" target=\"_blank\" href=\"https://scikit-learn.org/1.6/modules/generated/sklearn.impute.SimpleImputer.html\">?<span>Documentation for SimpleImputer</span></a></div></label><div class=\"sk-toggleable__content fitted\"><pre>SimpleImputer(strategy=&#x27;most_frequent&#x27;)</pre></div> </div></div><div class=\"sk-item\"><div class=\"sk-estimator fitted sk-toggleable\"><input class=\"sk-toggleable__control sk-hidden--visually\" id=\"sk-estimator-id-26\" type=\"checkbox\" ><label for=\"sk-estimator-id-26\" class=\"sk-toggleable__label fitted sk-toggleable__label-arrow\"><div><div>OneHotEncoder</div></div><div><a class=\"sk-estimator-doc-link fitted\" rel=\"noreferrer\" target=\"_blank\" href=\"https://scikit-learn.org/1.6/modules/generated/sklearn.preprocessing.OneHotEncoder.html\">?<span>Documentation for OneHotEncoder</span></a></div></label><div class=\"sk-toggleable__content fitted\"><pre>OneHotEncoder(handle_unknown=&#x27;ignore&#x27;)</pre></div> </div></div></div></div></div></div></div></div></div><div class=\"sk-item\"><div class=\"sk-estimator fitted sk-toggleable\"><input class=\"sk-toggleable__control sk-hidden--visually\" id=\"sk-estimator-id-27\" type=\"checkbox\" ><label for=\"sk-estimator-id-27\" class=\"sk-toggleable__label fitted sk-toggleable__label-arrow\"><div><div>RandomForestRegressor</div></div><div><a class=\"sk-estimator-doc-link fitted\" rel=\"noreferrer\" target=\"_blank\" href=\"https://scikit-learn.org/1.6/modules/generated/sklearn.ensemble.RandomForestRegressor.html\">?<span>Documentation for RandomForestRegressor</span></a></div></label><div class=\"sk-toggleable__content fitted\"><pre>RandomForestRegressor(n_estimators=400, random_state=42)</pre></div> </div></div></div></div></div></div>"
      ]
     },
     "execution_count": 132,
     "metadata": {},
     "output_type": "execute_result"
    }
   ],
   "execution_count": 132
  },
  {
   "cell_type": "code",
   "id": "20fa4f20-4b62-4b47-b5e9-02abe704a10b",
   "metadata": {
    "ExecuteTime": {
     "end_time": "2025-06-25T15:06:59.656331Z",
     "start_time": "2025-06-25T15:06:59.633722Z"
    }
   },
   "source": [
    "some_features = x_train.iloc[:10]\n",
    "some_labels = y_train.iloc[:10]"
   ],
   "outputs": [],
   "execution_count": 133
  },
  {
   "cell_type": "code",
   "id": "cfad6821-6560-429b-a977-8e76dfec9cec",
   "metadata": {
    "ExecuteTime": {
     "end_time": "2025-06-25T15:06:59.672086Z",
     "start_time": "2025-06-25T15:06:59.667440Z"
    }
   },
   "source": [],
   "outputs": [],
   "execution_count": null
  },
  {
   "cell_type": "code",
   "id": "a2720692-a004-4aec-b2f2-860cc555b165",
   "metadata": {
    "ExecuteTime": {
     "end_time": "2025-06-25T15:06:59.703739Z",
     "start_time": "2025-06-25T15:06:59.682474Z"
    }
   },
   "source": [
    "list(some_labels)"
   ],
   "outputs": [
    {
     "data": {
      "text/plain": [
       "[15.648799931085607,\n",
       " 14.512373825312997,\n",
       " 15.406466934077107,\n",
       " 15.168704339648006,\n",
       " 14.618915194574003,\n",
       " 15.947800091113603,\n",
       " 15.55710907392067,\n",
       " 16.3410054149464,\n",
       " 14.623269083014968,\n",
       " 15.866665144512032]"
      ]
     },
     "execution_count": 134,
     "metadata": {},
     "output_type": "execute_result"
    }
   ],
   "execution_count": 134
  },
  {
   "cell_type": "markdown",
   "id": "edc2ce36-50f6-4a6f-9812-8227b8b0910a",
   "metadata": {},
   "source": [
    "## evaluating the model"
   ]
  },
  {
   "cell_type": "code",
   "id": "11adea78-1860-44f7-9418-8b4b280ecd66",
   "metadata": {
    "ExecuteTime": {
     "end_time": "2025-06-25T15:06:59.734863Z",
     "start_time": "2025-06-25T15:06:59.728877Z"
    }
   },
   "source": [
    "from sklearn.metrics import mean_squared_error\n",
    "import numpy as np"
   ],
   "outputs": [],
   "execution_count": 135
  },
  {
   "cell_type": "code",
   "id": "0b94b119-3c22-47b3-803f-eae83745f4f8",
   "metadata": {
    "ExecuteTime": {
     "end_time": "2025-06-25T15:07:00.504127Z",
     "start_time": "2025-06-25T15:06:59.764292Z"
    }
   },
   "source": [
    "housing_predictions = main_pipe.predict(x_train)\n",
    "mse= mean_squared_error(y_train, housing_predictions)\n",
    "rmse=np.sqrt(mse)"
   ],
   "outputs": [],
   "execution_count": 136
  },
  {
   "cell_type": "code",
   "id": "ee213c68-b8be-4a04-94b8-53f0e84b5d51",
   "metadata": {
    "ExecuteTime": {
     "end_time": "2025-06-25T15:07:00.550740Z",
     "start_time": "2025-06-25T15:07:00.528549Z"
    }
   },
   "source": [
    "rmse"
   ],
   "outputs": [
    {
     "data": {
      "text/plain": [
       "np.float64(0.045243171243875585)"
      ]
     },
     "execution_count": 137,
     "metadata": {},
     "output_type": "execute_result"
    }
   ],
   "execution_count": 137
  },
  {
   "cell_type": "raw",
   "id": "c8a4311d-8d9a-40c6-b2e0-2c2872a8fe33",
   "metadata": {},
   "source": [
    "Rmse\n",
    "Linear regression\n",
    "0.138861975708012\n",
    "DecisionTreeRegressor\n",
    "4.007867933826977e-09\n",
    "RandomForestRegressor\n",
    "0.046140766603284256"
   ]
  },
  {
   "cell_type": "markdown",
   "id": "35a13b43-0456-4b49-91d7-4d97956046c2",
   "metadata": {},
   "source": [
    "## cross validation technique"
   ]
  },
  {
   "cell_type": "code",
   "id": "7324d930-7a23-48d7-9f75-0a7a434aa02d",
   "metadata": {
    "ExecuteTime": {
     "end_time": "2025-06-25T15:07:00.613730Z",
     "start_time": "2025-06-25T15:07:00.603117Z"
    }
   },
   "source": [
    "# from sklearn.model_selection import cross_val_score\n",
    "# scores= cross_val_score(main_pipe, x_train, y_train, scoring=\"neg_mean_squared_error\", cv=10)\n",
    "# rmse_scores=np.sqrt(-scores)"
   ],
   "outputs": [],
   "execution_count": 138
  },
  {
   "cell_type": "markdown",
   "id": "8f43fb32-13af-4980-b49b-6e15837136f5",
   "metadata": {},
   "source": []
  },
  {
   "cell_type": "code",
   "id": "185be2e0-3ec3-47c3-8451-b9e1bf4f605e",
   "metadata": {
    "ExecuteTime": {
     "end_time": "2025-06-25T15:07:00.644069Z",
     "start_time": "2025-06-25T15:07:00.629929Z"
    }
   },
   "source": [
    "# rmse_scores"
   ],
   "outputs": [],
   "execution_count": 139
  },
  {
   "cell_type": "code",
   "id": "dbbe7fe7-7065-4733-bc2c-1f91f25882f8",
   "metadata": {
    "ExecuteTime": {
     "end_time": "2025-06-25T15:07:00.659267Z",
     "start_time": "2025-06-25T15:07:00.655732Z"
    }
   },
   "source": [
    "# def print_scores(scores):\n",
    "#     print(\"scores:\", scores)\n",
    "#     print(\"Mean:\", scores.mean())\n",
    "#     print(\"standad deviation:\", scores.std())"
   ],
   "outputs": [],
   "execution_count": 140
  },
  {
   "cell_type": "code",
   "id": "3de3c686-7a67-40f7-b48f-9f0b3f675a60",
   "metadata": {
    "ExecuteTime": {
     "end_time": "2025-06-25T15:07:00.674894Z",
     "start_time": "2025-06-25T15:07:00.669393Z"
    }
   },
   "source": [
    "# print_scores(rmse_scores)"
   ],
   "outputs": [],
   "execution_count": 141
  },
  {
   "cell_type": "markdown",
   "id": "231209cd-1680-4e8f-8a77-5f41a7a84db2",
   "metadata": {},
   "source": [
    "## Saving the model"
   ]
  },
  {
   "cell_type": "code",
   "id": "f50ca562-0d49-49ab-af94-619e65f4aa03",
   "metadata": {
    "ExecuteTime": {
     "end_time": "2025-06-25T15:07:01.098247Z",
     "start_time": "2025-06-25T15:07:00.688431Z"
    }
   },
   "source": [
    "from joblib import dump, load\n",
    "dump(main_pipe, 'Dibrugarh_house_predictions.joblib')"
   ],
   "outputs": [
    {
     "data": {
      "text/plain": [
       "['Dibrugarh_house_predictions.joblib']"
      ]
     },
     "execution_count": 142,
     "metadata": {},
     "output_type": "execute_result"
    }
   ],
   "execution_count": 142
  },
  {
   "cell_type": "markdown",
   "id": "7e875757-6024-49d1-b04d-cea4283c99b5",
   "metadata": {},
   "source": [
    "## Final testing data "
   ]
  },
  {
   "cell_type": "code",
   "id": "40ac2c86-a5cc-48ae-bb44-a9b9d78f3ef4",
   "metadata": {
    "ExecuteTime": {
     "end_time": "2025-06-25T15:07:01.396109Z",
     "start_time": "2025-06-25T15:07:01.117Z"
    }
   },
   "source": [
    "X_test = test_set.drop(\"price_inr\", axis=1)\n",
    "Y_test = test_set[\"price_inr\"].copy()\n",
    "y_test_log = np.log1p(Y_test)\n",
    "\n",
    "final_predictions = main_pipe.predict(X_test)\n",
    "\n",
    "final_mse = mean_squared_error(y_test_log, final_predictions)\n",
    "final_rmse= np.sqrt(final_mse)\n",
    "print(final_predictions, list(Y_test))"
   ],
   "outputs": [
    {
     "name": "stdout",
     "output_type": "stream",
     "text": [
      "[15.98948761 15.74577029 14.66265966 ... 15.82826503 15.55056034\n",
      " 15.44673463] [7701245, 7115261, 2308766, 2002486, 2074224, 8966261, 10767721, 3424672, 7325919, 5712920, 5489813, 6178473, 5157082, 8059702, 8359644, 4683719, 10604340, 7891936, 8795217, 2289220, 8062638, 8122085, 3018821, 5550490, 4146349, 8575401, 5000724, 5028432, 5728278, 7808380, 7614583, 9234458, 6957455, 3279548, 9256899, 8559612, 3822053, 6182692, 7513845, 7608612, 8244114, 2843494, 4262354, 10889245, 4976845, 2230062, 6277035, 8490241, 3868772, 6639083, 2517337, 3335247, 7453547, 6504058, 6875087, 3684943, 2172811, 4480973, 9345914, 9170647, 8500565, 2037126, 5668823, 4808209, 10843491, 6758508, 8091807, 2689738, 11484138, 6507748, 10013646, 6458411, 9043559, 10986989, 2617211, 2928036, 6439624, 5983000, 3253014, 11285924, 3848572, 3060718, 6856218, 9807680, 8266057, 3206642, 6351748, 5090987, 5091639, 7615693, 3851830, 4935683, 2566193, 5751786, 4451261, 10715069, 2796343, 6092927, 8422394, 10021912, 6176207, 3011823, 2234658, 9964954, 6924692, 6660117, 8627860, 9633446, 3825632, 4294399, 7850615, 5221982, 3875897, 6933359, 7841780, 10391646, 3604791, 11167683, 11567824, 5416571, 6402820, 2701764, 7076855, 4676914, 9543824, 4280024, 8657682, 4261477, 8071278, 6611238, 11276608, 2889785, 8464281, 6347209, 2349614, 7498285, 2486178, 7226029, 7258558, 7369094, 9174598, 8449921, 7191825, 11811393, 4744173, 11875367, 8341639, 2171506, 8003379, 4470776, 3735222, 8481818, 8314410, 10142540, 8820173, 2830945, 9257753, 3389031, 7109542, 8279030, 8496967, 2323533, 2116802, 9499509, 6142516, 11260621, 4211892, 2485199, 3629550, 7667861, 5610741, 2259596, 10477499, 11533445, 4748844, 7579642, 8064975, 2411005, 8662234, 9879536, 5464966, 4992284, 3115427, 10217446, 9863942, 10076871, 5313999, 6354953, 4689466, 3837354, 7832187, 11711322, 3781298, 4469124, 6578290, 4847463, 2389205, 6087522, 5603148, 4970948, 9996171, 3138916, 4997933, 7072548, 3524831, 6727482, 6578438, 5710517, 2030494, 10999936, 7613334, 3216830, 10819979, 9538337, 10559370, 11458488, 7860250, 3741398, 4746426, 2753573, 2744391, 6075574, 5913335, 10596808, 4271657, 7345674, 2404937, 5215557, 5923538, 7643514, 5834115, 9507482, 2530322, 8669482, 2224001, 6505280, 2431076, 7684375, 6333057, 4840184, 8031763, 3251064, 6815817, 5130416, 7326838, 1932146, 8168009, 9724674, 7462986, 6740899, 2404485, 7265028, 12305282, 5664571, 9051138, 2752086, 3857094, 6636570, 5780239, 8575222, 6413836, 6193182, 5427197, 6399874, 9803680, 6477345, 9215707, 8813276, 6559996, 6481257, 7169904, 5441378, 7377360, 4622032, 7285304, 10334322, 7829137, 6550843, 6201436, 6130479, 5372622, 4163293, 7363572, 9254757, 8584611, 6937184, 4019928, 5373906, 11102291, 8300110, 5953561, 2015408, 10827036, 4035792, 9902484, 4885257, 9613565, 4051241, 3782854, 5858469, 9841945, 5432322, 9738805, 4178049, 3891205, 7450865, 6274627, 10028959, 6592792, 4529735, 4427103, 2337697, 9215273, 8895445, 9730140, 4505074, 11059992, 6269900, 8886023, 8673566, 7434513, 3331847, 8335603, 6951676, 5367023, 3271071, 2943985, 10647369, 5205209, 8062871, 3860473, 8370085, 8124429, 7079795, 9864271, 5421380, 4657517, 9357070, 8702932, 3556393, 5467271, 4266219, 6503854, 3502571, 3287072, 9083672, 4461364, 7046072, 9907034, 7025551, 2710211, 5117179, 4922321, 6788709, 3188379, 7497042, 11724810, 7974817, 6513037, 2633662, 3294804, 4909883, 5861316, 5601392, 5451750, 7428943, 6414371, 6739006, 4145396, 5917410, 7001223, 3739928, 4535664, 4294549, 6101805, 2218220, 8346384, 3246808, 4315316, 8559466, 2198556, 7651968, 6772117, 7165255, 10906810, 8515460, 6697664, 8272415, 3846690, 6340062, 6839181, 4550377, 8244713, 7888957, 2850376, 3745081, 5229145, 8795350, 6952191, 4032172, 7778912, 2999486, 6779424, 4689624, 3862931, 11183086, 11192751, 8297922, 2738534, 2879498, 7318903, 3460266, 5535807, 3701968, 5222196, 5896130, 6967559, 8561050, 3864041, 6655157, 6860842, 3012429, 8691683, 4353353, 3683650, 8804553, 4993312, 2614109, 2962434, 2919370, 6126764, 3098303, 3198032, 5693529, 7858265, 5810453, 8890405, 5585413, 8409775, 5253980, 5448189, 3286712, 4898133, 7206501, 8101270, 5467959, 2255101, 9057816, 3882928, 2661985, 3997230, 6414172, 8844795, 4335084, 4133828, 5550177, 6417137, 3791363, 6785352, 4417771, 3253807, 7785911, 5840417, 11118656, 7395095, 5924501, 6892264, 3716547, 7431356, 5544916, 5653716, 4983140, 5395052, 4147949, 3767519, 8823699, 8121121, 8458354, 6980670, 7190891, 8141205, 3775910, 6152542, 8747604, 8738926, 8529235, 3402816, 5861659, 7713425, 6669257, 5698201, 9354634, 8296045, 6461210, 5714678, 10495707, 6113175, 8215085, 7493225, 6439026, 4470658, 5722044, 9280746, 3548886, 7940575, 7681352, 5365601, 2506177, 2800078, 3822247, 6836946, 3516320, 3269245, 3742011, 7120394, 2664330, 7110546, 4398826, 7548066, 5438788, 3381929, 11461225, 4171335, 9542701, 6429965, 6906108, 7074050, 2496053, 5463007, 3378181, 10341055, 10430890, 5652826, 11376157, 6086013, 3620128, 4202987, 5400716, 5349353, 8192178, 6859904, 6690595, 2503528, 5507624, 6911465, 7969968, 3835638, 2943163, 3925097, 7069966, 8411934, 4481241, 4846953, 8629009, 7052263, 6709644, 4816489, 8590646, 6627792, 6761487, 6895274, 6079086, 4305455, 8574560, 8195412, 5805906, 3834391, 6864741, 10399052, 4550023, 11636022, 10118305, 3701971, 6078761, 6069086, 4473222, 6762124, 8369154, 10865893, 8249069, 6328924, 7212592, 7490027, 6799309, 3578649, 4308367, 7614037, 4354572, 8013201, 3007823, 7528325, 12547298, 5301814, 5036133, 3441378, 9899537, 7328084, 5533672, 7311650, 8393677, 4104167, 4802223, 2572493, 2456477, 11520131, 2453417, 9497961, 11593089, 5746897, 5058839, 8191121, 9954356, 3318235, 6681192, 7332413, 7461686, 7233341, 10592778, 10686318, 8953838, 4145238, 3635423, 4492242, 5755392, 4523656, 6983127, 6491939, 6487939, 10500445, 6740662, 3152247, 2809123, 7841454, 3389825, 6819839, 10958734, 2587445, 2450610, 2763022, 3822254, 8349679, 3619970, 3255436, 5292370, 8945377, 11332156, 7447052, 2411527, 6783685, 3536959, 3480445, 4822358, 8670502, 5681546, 2615488, 3139419, 3363976, 10194133, 2066279, 7751954, 9305005, 3635062, 7084282, 2905833, 2425302, 4854638, 2937454, 10018885, 6789588, 7174607, 9610580, 12437686, 3946942, 2162874, 6223712, 8030457, 2324280, 10656394, 2180039, 7000017, 6936226, 7164124, 11044331, 6112385, 7660965, 8281197, 2930696, 8020006, 8584751, 3883298, 5268329, 10948941, 3775919, 3986824, 6403130, 9625909, 2119055, 5473689, 3879305, 6613678, 1818885, 3758605, 5728374, 10195878, 7732798, 5320377, 3232595, 3108628, 4684488, 8494323, 9988804, 3855996, 8018859, 6048857, 4101256, 6236171, 7695299, 5352006, 2439426, 6818601, 3564215, 8242583, 5347566, 3111446, 2517553, 3183719, 7853292, 3058385, 8669837, 10723922, 5367335, 7841024, 4120010, 7391146, 7205974, 3334273, 9287260, 2908117, 3453449, 8933258, 5785054, 8665662, 6235425, 6003885, 9276248, 2724263, 5095407, 6464279, 6732098, 3436165, 2947800, 2592957, 2795367, 7768405, 9378168, 5638675, 9866353, 8733741, 7936296, 4873708, 6123871, 8334097, 4120248, 7836936, 3093340, 7341598, 4449168, 5593895, 6506759, 9266569, 4586074, 3679642, 9992783, 8096747, 6891836, 2420796, 2511204, 5977014, 4712235, 2675739, 8421120, 6972733, 10444099, 1939439, 6302851, 8087212, 5158176, 7892033, 4894351, 6259722, 5826645, 3979376, 7576546, 2247873, 4639774, 6142629, 5148381, 4349541, 6126897, 2089876, 7277808, 6737855, 4503994, 5345106, 8794501, 9816140, 3660675, 4107296, 3999555, 2585073, 5445036, 5752383, 5066170, 5164072, 4834269, 3871797, 6300442, 11072374, 3941084, 5033236, 4240646, 6833287, 3290424, 11127237, 9100351, 8803962, 5940316, 6671565, 3538487, 4320318, 2589797, 8925507, 8796351, 8544529, 5066052, 6528898, 6886427, 9869714, 5930741, 9751814, 4346653, 6481746, 11004123, 9460031, 3211995, 9707085, 2404922, 8667754, 5954254, 2789430, 7800601, 7534988, 7052677, 3780160, 5676529, 9082720, 5238677, 4554759, 5621247, 1964496, 3355471, 6388219, 8498551, 7391977, 2885974, 9856364, 3514148, 4744717, 4848312, 8273918, 7975510, 9031519, 2420527, 3837099, 5844744, 7006577, 4613481, 7162397, 10033621, 8307007, 9924691, 3022289, 6059450, 3942011, 8092620, 8478024, 7368093, 3493972, 2950977, 6535692, 2267478, 7256861, 6760167, 11229370, 4579653, 8234631, 1970772, 3682511, 4046212, 4178504, 3615017, 2031884, 3853251, 4291672, 6180915, 3592392, 5210559, 3194998, 2874322, 4341243, 7072007, 5888824, 12173771, 5813822, 7163924, 7051638, 6189049, 5344338, 8502057, 8250576, 9142000, 4872562, 7365269, 4301915, 6002093, 8713541, 9761389, 5582075, 3951058, 6495855, 5562156, 5900838, 5919631, 3053939, 12121322, 3905923, 7591708, 5414534, 5863662, 7748063, 10271517, 3980118, 3822063, 7817460, 7372064, 2850429, 8496028, 6270665, 3538458, 6072708, 6710305, 6250990, 10608053, 6868230, 7392601, 9420522, 5083480, 3654722, 5527885, 10387234, 3865564, 9492182, 3871326, 2062091, 9191867, 10430684, 6892269, 5972162, 8935023, 10409158, 7132862, 4423746, 2868405, 3090522, 8805990, 7019370, 8351057, 3923510, 7219235, 4311765, 5408207, 7783774, 3988678, 2275922, 8395925, 2706295, 6906769, 5544085, 5259622, 6910668, 6444060, 6979777, 3047062, 4900948, 2698205, 6475140, 5452839, 6289960, 9842229, 2338763, 9435948, 2894805, 3138149, 10030177, 4298707, 10698587, 8910726, 10039658, 6935430, 6092890, 3462891, 5129640, 11214739, 8166368, 5388703, 4539102, 5825659, 3311847, 8980393, 7167507, 3306885, 7268073, 8849800, 7813250, 6590355, 8300977, 8115331, 3844800, 5843255, 10325996, 6939770, 8289740, 9421628, 3122620, 6547368, 6605187, 6895651, 7289468, 10781914, 6581287, 6081569, 4057449, 5984255, 4049508, 10480654, 11462116, 5054994, 8421062, 3884143, 9224852, 6043719, 7887881, 7016309, 11579168, 3040340, 6670484, 5618053, 10132569, 3496019, 7179639, 2957273, 7026671, 5112166, 4683791, 4839071, 6117842, 3628378, 10571852, 7727637, 3351899, 3844749, 5342961, 7508246, 4756881, 3820122, 7400569, 5106393, 4254321, 5340207, 4476378, 4490326, 5273215, 9271400, 4549126, 9278761, 10475209, 9931047, 9061850, 7490937, 3247733, 5573294, 6411626, 9829121, 8025868, 2167172, 10302727, 10196957, 5525386, 2604107, 3043281, 7320119, 6967911, 3075817, 9344006, 4226701, 7120207, 4077248, 3899472, 11077957, 10497744, 4682012, 5616088, 11144766, 7410091, 7183298, 5324400, 8027606, 9959281, 2290703, 5474425, 2531113, 6185280, 6115556, 5130233, 8091377, 3504593, 4660456, 5481034, 8559786, 8218744, 10672081, 5314478, 11894243, 2347352, 5158793, 5776865, 9531102, 2513733, 8092597, 9036405, 2162138, 10046144, 10570753, 11463654, 7230513, 9907487, 6021724, 2578824, 3506895, 6443518, 5950173, 4149686, 7581612, 9730238, 2111693, 8637952, 3148370, 9071824, 5263391, 9837547, 5241534, 3997918, 9117874, 8065883, 4587154, 9514045, 6916956, 7567398, 10848534, 5033347, 10415565, 5978631, 7218840, 6772652, 4984950, 4345327, 6840504, 7381845, 4777803, 10591944, 2685609, 7350322, 7719122, 3552885, 3365988, 8397499, 9985686, 7092722, 5167608, 6055762, 3613498, 5641196, 2660465, 3185873, 5462806, 5768421, 5918521, 10505864, 3055984, 5933217, 8199038, 2937920, 4216352, 5200081, 6330470, 5459843, 5385691, 4633969, 2928364, 2015689, 7657721, 5646381, 3150346, 7875992, 7274624, 6168804, 3231961, 7170365, 5426357, 4931059, 10326972, 11296803, 2261007, 2649685, 2268552, 7179720, 5662091, 7005563, 3222079, 3298104, 10888324, 2770100, 6360217, 9267827, 10249507, 6038331, 3817549, 8897267, 8505720, 7138547, 3869851, 10738734, 3926562, 6050047, 9814261, 2347327, 5731387, 8308963, 8242817, 10663095, 2466942, 2346378, 3337089, 2692744, 4902580, 6104626, 5037159, 5296146, 10030097, 4361882, 7099928, 4552145, 8930289, 4123455, 5265097, 9361247, 7436030, 7968477, 1869927, 9456105, 8560795, 4051998, 2715837, 5102063, 5288327, 4311751, 2663037, 6332406, 7938247, 4837116, 6092951, 5860843, 3364058, 3397936, 8456320, 4871969, 4522534, 3928354, 2419963, 4582656, 11087227, 7342914, 3370286, 6508968, 8907634, 2648275, 8947365, 7161437, 6354188, 8419804, 9009898, 9025713, 7232293, 9207702, 9541751, 8739300, 6655541, 2276343, 5220683, 9216111, 9647254, 7495708, 5089560, 5923689, 8386747, 8535045, 2930648, 6025527, 6558564, 7176099, 4374322, 5307770, 3339329, 3471978, 2262646, 11348741, 3656786, 5876460, 8879190, 7386621, 7595335, 7788227, 3106351, 7905423, 9160937, 7771463, 2956176, 2421126, 5302189, 6374655, 8989174, 11245636, 5453310, 6612670, 5279018, 4816081, 3594344, 8234739, 2044007, 6990698, 2359772, 7290951, 7627057, 5098951, 5363880, 7070999, 4891749, 3246370, 3893646, 9256380, 9162419, 9388795, 10665144, 4550755, 7518606, 4157685, 8716615, 7542990, 5555471, 2516811, 1875421, 4150768, 7662843, 7389220, 9918017, 8290299, 2524574, 9012701, 5973273, 4049359, 8507012, 6290192, 7350331, 6106806, 11257015, 7638074, 4149234, 8626509, 8194487, 8527346, 5678909, 6459289, 8585509, 2715354, 4417047, 3695444, 4166519, 3014121, 3232002, 8725528, 6829723, 5970930, 2615541, 4037368, 4672443, 6191339, 9157481, 7307403, 8094122, 5979395, 10317292, 4662712, 7796160, 6976246, 5206931, 6930339, 9886230, 6454101, 2526269, 10564932, 7094667, 6711571, 9344746, 3607393, 4194550, 6803100, 10183134, 6895611, 8917465, 6752325, 9270978, 7704115, 9020985, 3933015, 6614308, 9208529, 3721588, 7450248, 4542543, 5841842, 12032657, 3817084, 8010432, 7562636, 4724711, 2670816, 2356804, 2770113, 3776307, 4889694, 8085934, 3798384, 3898345, 2804191, 6541221, 8902761, 7471931, 7767692, 7545324, 8201282, 4753179, 6011259, 5058797, 5101268, 2739958, 6450583, 2789734, 8344346, 5022980, 4058023, 6787872, 4845498, 7685384, 1981299, 8666590, 2953214, 9693258, 7238511, 9941997, 7982760, 7329811, 11262689, 7063228, 3634910, 2270390, 9313671, 3198573, 3074961, 6754000, 3139888, 6243586, 8609112, 4171298, 4429141, 2509445, 10688010, 9950121, 3537888, 2621588, 8168067, 4111873, 9208029, 4906475, 2421395, 3343589, 8101869, 4208551, 7044452, 3706428, 4886355, 7468286, 6750098, 8308146, 5097164, 3509173, 9224801, 3804744, 9536034, 7757609, 4804096, 5592499, 6148284, 5895296, 9955750, 4563217, 8264178, 5342141, 9052559, 8361742, 8808977, 4586754, 4627616, 9120834, 6761264, 5724948, 3534497, 8174393, 8883643, 7605682, 2765751, 7333202, 8586697, 3479503, 4710984, 7575254, 5052222, 3239068, 3643651, 5783402, 5747100, 7530722, 7162013, 9342740, 3155143, 6243536, 8017363, 10533608, 8955670, 6177066, 5951089, 5392061, 4557286, 5195967, 2723579, 9830701, 5817319, 8260266, 8990126, 6872046, 8831388, 3366320, 9487627, 9874369, 8991868, 5240776, 5013961, 5096807, 5387332, 2246853, 2498156, 5503194, 3738681, 4322522, 6309094, 3699752, 2896481, 10388349, 2689562, 8172599, 9505431, 4668561, 8471927, 6177546, 10621832, 2970302, 9381651, 3393543, 4250082, 6618396, 8015703, 4033145, 3029548, 5243250, 4925588, 5908890, 7386958, 6269116, 7835189, 2857959, 3416980, 9808371, 3971160, 3987131, 11299206, 6559372, 9350845, 6330648, 3092488, 6777538, 4618734, 9533068, 6469820, 7391654, 3332694, 3512787, 1812399, 9288504, 3394268, 4025590, 6719803, 7192907, 9259824, 4164931, 6802623, 7733826, 5802221, 5388918, 3551348, 8872304, 5545093, 2425691, 8481880, 6024261, 9282837, 4230071, 3540485, 2683473, 6775212, 7985444, 2415691, 2911303, 7877537, 5591225, 8904122, 10240384, 6660916, 5151793, 8814083, 4350256, 2657754, 3398642, 4856539, 5559808, 10433136, 7694509, 6884452, 5976884, 6030079, 4001844, 2902606, 9513626, 10735652, 7606593, 3049003, 7184366, 3549756, 10183518, 3746111, 4568830, 8394253, 2733908, 9999936, 3402275, 5882103, 4195063, 6122670, 9055641, 4187501, 8079258, 2806906, 9192843, 6549620, 4258353, 5486020, 8824506, 7683589, 9982177, 6927794, 4891885, 10106674, 6842309, 7523664, 6355197, 6256909, 7576780, 2962898, 2913767, 9971405, 3517330, 2764614, 2233262, 2703401, 7492240, 5214143, 4428409, 10802131, 10152507, 2944630, 5679777, 4645935, 9149628, 8807268, 9516931, 9424508, 8546176, 6629204, 2730201, 6435579, 6596442, 6237038, 8817375, 6424374, 3979028, 7978164, 10162452, 3392490, 3233770, 5180700, 6743937, 5924413, 8320371, 7305586, 8186025, 7758955, 8357767, 2939505, 2772913, 6875259, 9902528, 3557958, 4955105, 6415657, 5104816, 8888577, 7456853, 5264204, 7141999, 2197111, 11901033, 3049657, 3603607, 8913151, 8355261, 6060203, 7801848, 10915467, 6631646, 6767654, 5336556, 2150400, 2332314, 3098458, 7654736, 6307502, 5035601, 12117744, 7100734, 8796862, 4913293, 10250611, 4026065, 3552134, 3201399, 2933795, 5321838, 8135421, 5664593, 5927044, 9041752, 7239370, 4559581, 7622128, 4802516, 7083126, 5453767, 7525369, 7028761, 7810344, 5679726, 5268847]\n"
     ]
    }
   ],
   "execution_count": 143
  },
  {
   "cell_type": "code",
   "id": "955495d8-1a8d-401a-b291-8488781efc2f",
   "metadata": {
    "ExecuteTime": {
     "end_time": "2025-06-25T15:07:01.442930Z",
     "start_time": "2025-06-25T15:07:01.422035Z"
    }
   },
   "source": [
    "final_rmse"
   ],
   "outputs": [
    {
     "data": {
      "text/plain": [
       "np.float64(0.1083148929339902)"
      ]
     },
     "execution_count": 144,
     "metadata": {},
     "output_type": "execute_result"
    }
   ],
   "execution_count": 144
  },
  {
   "cell_type": "code",
   "id": "2d5eb286-1256-4bbb-b11b-38a498f41bf9",
   "metadata": {
    "ExecuteTime": {
     "end_time": "2025-06-25T15:07:01.491384Z",
     "start_time": "2025-06-25T15:07:01.479624Z"
    }
   },
   "source": [],
   "outputs": [],
   "execution_count": null
  },
  {
   "cell_type": "code",
   "id": "6c0c3e33-31b8-43df-8024-cc6b88cd555c",
   "metadata": {
    "ExecuteTime": {
     "end_time": "2025-06-25T15:07:01.522568Z",
     "start_time": "2025-06-25T15:07:01.505216Z"
    }
   },
   "source": [],
   "outputs": [],
   "execution_count": null
  }
 ],
 "metadata": {
  "kernelspec": {
   "display_name": "Python 3 (ipykernel)",
   "language": "python",
   "name": "python3"
  },
  "language_info": {
   "codemirror_mode": {
    "name": "ipython",
    "version": 3
   },
   "file_extension": ".py",
   "mimetype": "text/x-python",
   "name": "python",
   "nbconvert_exporter": "python",
   "pygments_lexer": "ipython3",
   "version": "3.9.13"
  }
 },
 "nbformat": 4,
 "nbformat_minor": 5
}
